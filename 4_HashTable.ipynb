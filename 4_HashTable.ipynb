{
 "cells": [
  {
   "cell_type": "markdown",
   "id": "ec946bd5",
   "metadata": {},
   "source": [
    "# Hash Tables\n",
    "https://github.com/codebasics/data-structures-algorithms-python/blob/master/data_structures/4_HashTable"
   ]
  },
  {
   "cell_type": "code",
   "execution_count": 50,
   "id": "e1267b97",
   "metadata": {},
   "outputs": [],
   "source": [
    "class HashTable:\n",
    "    def __init__(self):\n",
    "        self.MAX = 10\n",
    "        self.arr = [[] for i in range(self.MAX)]\n",
    "        \n",
    "    def get_hash(self,key):\n",
    "        h = 0\n",
    "        for char in key:\n",
    "            h += ord(char)\n",
    "        return h % self.MAX\n",
    "    \n",
    "    def __setitem__(self, key,val):\n",
    "        h = self.get_hash(key)\n",
    "        found = False\n",
    "        for inx, element in enumerate(self.arr[h]):\n",
    "            if len(element)==2 and element[0]==key:\n",
    "                self.arr[h][inx] = (key,val)\n",
    "                found=True\n",
    "                break\n",
    "        if not found:\n",
    "            self.arr[h].append((key,val))\n",
    "            \n",
    "    def __getitem__(self, key):\n",
    "        h = self.get_hash(key)\n",
    "        for element in self.arr[h]:\n",
    "            if element[0] == key:\n",
    "                return element[1]\n",
    "    \n",
    "    def __delitem__(self,key):\n",
    "        h = self.get_hash(key)\n",
    "        for index, element in enumerate(self.arr[h]):\n",
    "            if element[0] == key:\n",
    "                del self.arr[h][index]"
   ]
  },
  {
   "cell_type": "code",
   "execution_count": 11,
   "id": "9413da67",
   "metadata": {},
   "outputs": [
    {
     "data": {
      "text/plain": [
       "130"
      ]
     },
     "execution_count": 11,
     "metadata": {},
     "output_type": "execute_result"
    }
   ],
   "source": [
    "#practice in both videos\n",
    "t = HashTable()\n",
    "#t.add('march 6', 130) #upgraded to next line using standard operators\n",
    "t['march 6'] = 130\n",
    "t['march 10'] = 220\n",
    "t['march 17'] = 459\n",
    "\n",
    "#t.get('march 6') #upgraded to next line using standard operators\n",
    "t['march 6']"
   ]
  },
  {
   "cell_type": "code",
   "execution_count": 22,
   "id": "c68ad293",
   "metadata": {},
   "outputs": [
    {
     "name": "stdout",
     "output_type": "stream",
     "text": [
      "[[('Jan 9', '35'), ('Jan 10', '30')], [], [('Jan 1', '27')], [('Jan 2', '31')], [('Jan 3', '23')], [('Jan 4', '34')], [('Jan 5', '37')], [('Jan 6', '38')], [('Jan 7', '29')], [('Jan 8', '30')]]\n",
      "38\n"
     ]
    }
   ],
   "source": [
    "#solving the practice assignment\n",
    "\n",
    "f = open(\"nyc_weather.csv\")\n",
    "files = f.readlines()\n",
    "#print(files)\n",
    "\n",
    "nyWeat = HashTable()\n",
    "for line in files:\n",
    "    if(line[0] == 'd'):\n",
    "        pass\n",
    "    else:\n",
    "        curr = line.split(',')\n",
    "        curr[1] = curr[1].strip()\n",
    "        nyWeat[curr[0]] = curr[1]\n",
    "print(nyWeat.arr)\n",
    "i = 1\n",
    "total = 0\n",
    "while i < 8:\n",
    "    value = 'Jan '+str(i)\n",
    "    total += int(nyWeat[value])\n",
    "    i += 1\n",
    "firstWeekAvg = total/7\n",
    "\n",
    "i = 1\n",
    "maxTemp10Days = 0\n",
    "while i < 11:\n",
    "    value = 'Jan ' + str(i)\n",
    "    temp = int(nyWeat[value])\n",
    "    i+= 1\n",
    "    if temp > maxTemp10Days:\n",
    "        maxTemp10Days = temp\n",
    "#print(maxTemp10Days)\n",
    "\n",
    "jan9Temp = nyWeat['Jan 9']\n",
    "jan4Temp = nyWeat['Jan 4']"
   ]
  },
  {
   "cell_type": "code",
   "execution_count": 27,
   "id": "1416ea72",
   "metadata": {},
   "outputs": [
    {
     "name": "stdout",
     "output_type": "stream",
     "text": [
      "8\n"
     ]
    }
   ],
   "source": [
    "#Word Count in Poem\n",
    "f = open('poem.txt', 'r')\n",
    "contents = f.readlines()\n",
    "\n",
    "wordsInPoem = HashTable()\n",
    "\n",
    "for line in contents:\n",
    "    wordList = line.split()\n",
    "    for word in wordList:\n",
    "        #print(word)\n",
    "        if(wordsInPoem[word] != None):\n",
    "            wordsInPoem[word] += 1\n",
    "        else:\n",
    "            wordsInPoem[word] = 1\n",
    "print(wordsInPoem['I'])"
   ]
  },
  {
   "cell_type": "code",
   "execution_count": 45,
   "id": "906fa13a",
   "metadata": {},
   "outputs": [],
   "source": [
    "#HashTable with Linear Probing\n",
    "class HashTable:\n",
    "    def __init__(self):\n",
    "        self.MAX = 10\n",
    "        self.arr = [None for i in range(self.MAX)]\n",
    "        \n",
    "    def get_hash(self,key):\n",
    "        h = 0\n",
    "        for char in key:\n",
    "            h += ord(char)\n",
    "        return h % self.MAX\n",
    "    \n",
    "    def __setitem__(self, key,val):\n",
    "        h = self.get_hash(key)\n",
    "        searching = True\n",
    "        counter = 0\n",
    "        while searching:\n",
    "            if self.arr[h] == None:\n",
    "                self.arr[h] = (key, val)\n",
    "                searching = False\n",
    "                break\n",
    "            else:\n",
    "                if(h >= self.MAX-1):\n",
    "                    h = 0\n",
    "                else:\n",
    "                    h += 1\n",
    "            counter += 1\n",
    "            if counter > 9:\n",
    "                searching = False\n",
    "                print(\"not found\", key)\n",
    "                break\n",
    "                \n",
    "            \n",
    "    def __getitem__(self, key):\n",
    "        h = self.get_hash(key)\n",
    "        searching = True\n",
    "        counter = 0\n",
    "        while searching:\n",
    "            if(self.arr[h] != None and self.arr[h][0] == key):\n",
    "                searching = False\n",
    "                return self.arr[h][1]\n",
    "            else:\n",
    "                if(h >= self.MAX-1):\n",
    "                    h = 0\n",
    "                else:\n",
    "                    h += 1\n",
    "            counter += 1\n",
    "            if counter > 9:\n",
    "                searching = False\n",
    "                print(\"not found\", key)\n",
    "                break            \n",
    "    \n",
    "    def __delitem__(self,key):\n",
    "        h = self.get_hash(key)\n",
    "        searching = True\n",
    "        counter = 0\n",
    "        while searching:\n",
    "            if(self.arr[h] != None and self.arr[h][0] == key):\n",
    "                searching = False\n",
    "                del self.arr[h]\n",
    "            else:\n",
    "                if(h >= self.MAX-1):\n",
    "                    h = 0\n",
    "                else:\n",
    "                    h += 1\n",
    "            counter += 1\n",
    "            if counter > 9:\n",
    "                searching = False\n",
    "                print(\"not found\", key)\n",
    "                break "
   ]
  },
  {
   "cell_type": "code",
   "execution_count": 53,
   "id": "42de273f",
   "metadata": {},
   "outputs": [
    {
     "data": {
      "text/plain": [
       "[[], [], [], [], [], [], [], [], [], [('march 17', 50)]]"
      ]
     },
     "execution_count": 53,
     "metadata": {},
     "output_type": "execute_result"
    }
   ],
   "source": [
    "#practice/testing linear probing\n",
    "t = HashTable()\n",
    "t['march 6'] = 130\n",
    "t['march 17'] = 50\n",
    "del t['march 6']\n",
    "t.arr"
   ]
  },
  {
   "cell_type": "code",
   "execution_count": null,
   "id": "a91b0eca",
   "metadata": {},
   "outputs": [],
   "source": []
  }
 ],
 "metadata": {
  "kernelspec": {
   "display_name": "Python 3 (ipykernel)",
   "language": "python",
   "name": "python3"
  },
  "language_info": {
   "codemirror_mode": {
    "name": "ipython",
    "version": 3
   },
   "file_extension": ".py",
   "mimetype": "text/x-python",
   "name": "python",
   "nbconvert_exporter": "python",
   "pygments_lexer": "ipython3",
   "version": "3.8.10"
  }
 },
 "nbformat": 4,
 "nbformat_minor": 5
}
